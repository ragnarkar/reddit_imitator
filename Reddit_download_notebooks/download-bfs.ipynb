{
 "cells": [
  {
   "cell_type": "code",
   "execution_count": 1,
   "id": "96c94874",
   "metadata": {},
   "outputs": [],
   "source": [
    "import praw\n",
    "import prawcore\n",
    "import re\n",
    "import random\n",
    "import bs4, markdown\n",
    "from tqdm import tqdm\n",
    "import copy\n",
    "import pandas as pd\n",
    "import time\n",
    "import json\n",
    "import warnings\n",
    "from praw.exceptions import DuplicateReplaceException"
   ]
  },
  {
   "cell_type": "code",
   "execution_count": 2,
   "id": "5f992511",
   "metadata": {},
   "outputs": [],
   "source": [
    "credential_file = \"credentials.key\"\n",
    "\n",
    "try:\n",
    "    with open(credential_file, 'r') as f:\n",
    "        creds = f.read().split('\\n')\n",
    "    personal = creds[0]\n",
    "    secret = creds[1]\n",
    "    username = creds[2]\n",
    "    password = creds[3]\n",
    "    user_agent = creds[4]\n",
    "except IOError as e:\n",
    "    print(\"You didn't create a credential file! Please see sample_credentials.key\")\n",
    "    print(\"Then go to http://www.storybench.org/how-to-scrape-reddit-with-python/\")\n",
    "    print(\"And register a new app named fastai_reddit in your reddit account.\")\n",
    "    print(\"And insert the values into sample_credentials.key and save it as {}.\".format(credential_file))\n",
    "    import getpass\n",
    "    personal = getpass.getpass(\"Personal key?\")\n",
    "    secret = getpass.getpass(\"Secret key?\")\n",
    "    username - getpass.getpass(\"Username?\")\n",
    "    password = getpass.getpass(\"Password?\")\n",
    "    user_agent = getpass.getpass(\"User Agent?\")\n",
    "\n",
    "def noquotes(text):\n",
    "    \"\"\"\n",
    "This function first stated out as a way to remove markdown quotes from raw reddit markdown text but now it's more of a\n",
    "general purpose text parser, but the name hasn't changed.\n",
    "    \"\"\"\n",
    "    #https://stackoverflow.com/questions/761824/python-how-to-convert-markdown-formatted-text-to-text\n",
    "    t1 = re.sub(\">.+?(\\n|$)\",\"\",text).replace(\"\\\\n\",\"\").replace(\"\\\\\",\"\")\n",
    "    html = markdown.markdown(t1)\n",
    "    t2 = ''.join(bs4.BeautifulSoup(html, 'lxml').findAll(text=True))\n",
    "    \n",
    "    return t2    \n",
    "\n",
    "reddit = praw.Reddit(client_id=personal, client_secret=secret, user_agent=user_agent, username=username, \\\n",
    "                     password=password)"
   ]
  },
  {
   "cell_type": "code",
   "execution_count": 3,
   "id": "76447ff1",
   "metadata": {},
   "outputs": [],
   "source": [
    "def handle_api_errors(func):\n",
    "    def wrapper(*args, **kwargs):\n",
    "        while True:\n",
    "            try:\n",
    "                result = func(*args, **kwargs)\n",
    "                return result\n",
    "            except (praw.exceptions.APIException, prawcore.exceptions.ServerError) as e:\n",
    "                print(f'API Error: {e}')\n",
    "                print(f'Retrying in 60 seconds...')\n",
    "                time.sleep(60)\n",
    "    return wrapper\n",
    "\n",
    "def skip_on_assertion_error(func):\n",
    "    def wrapper(*args, **kwargs):\n",
    "        try:\n",
    "            func(*args, **kwargs)\n",
    "        except AssertionError as e:\n",
    "            warnings.warn(f\"AssertionError encountered: {e}\")\n",
    "        except Exception as e:\n",
    "            raise e\n",
    "    return wrapper"
   ]
  },
  {
   "cell_type": "code",
   "execution_count": 4,
   "id": "cc010580",
   "metadata": {},
   "outputs": [],
   "source": [
    "@handle_api_errors\n",
    "def traverse_replies(comment, parent=None):\n",
    "    results = []\n",
    "    # Add a dictionary for the current comment\n",
    "    result = {\"instruction\": \"Reply to this Reddit post\", \"input\": parent, \"output\": noquotes(comment.body), \"score\": comment.score}\n",
    "    results.append(result)\n",
    "    # Recursively traverse any nested replies\n",
    "    for reply in comment.replies:\n",
    "        if isinstance(reply, praw.models.MoreComments):\n",
    "            # Replace any MoreComments object with its actual comments\n",
    "            try:\n",
    "                comments = reply.comments()\n",
    "                if isinstance(comments, praw.models.comment_forest.CommentForest):\n",
    "                    comments.replace_more(limit=None)\n",
    "                for r in comments:\n",
    "                    results.extend(traverse_replies(r, parent=noquotes(comment.body)))\n",
    "            except AttributeError:\n",
    "                pass\n",
    "                #print(f\"MoreComments object not found. Skipping...\")\n",
    "            except Exception as e:\n",
    "                pass\n",
    "                #print(f\"Exception encountered when expanding: {e}\")\n",
    "        else:\n",
    "            results.extend(traverse_replies(reply, parent=noquotes(comment.body)))\n",
    "    return results"
   ]
  },
  {
   "cell_type": "code",
   "execution_count": 5,
   "id": "67910eb4",
   "metadata": {},
   "outputs": [],
   "source": [
    "@handle_api_errors\n",
    "def run(sub, reply_instruction=\"Reply to this Reddit post\", create_instruction=\"Create a Reddit post\", limit=1000, limit2 = 200000):\n",
    "    subreddit = reddit.subreddit(sub)\n",
    "    top = list(subreddit.top(limit=limit))\n",
    "    new = list(subreddit.new(limit=limit))\n",
    "    rising = list(subreddit.rising(limit=limit))\n",
    "    controversial = list(subreddit.controversial(limit=limit))\n",
    "    posts = list(set(top + new + rising + controversial))\n",
    "    output = []\n",
    "    stack = []\n",
    "    for p in tqdm(posts):\n",
    "        comments = p.comments.list()\n",
    "        if len(comments) == 0:\n",
    "            continue\n",
    "        title = p.title\n",
    "        try:\n",
    "            selftext = noquotes(p.selftext)\n",
    "        except AttributeError:\n",
    "            selftext = \"\"\n",
    "        posttext = \"[Title:] {}\\n[Selftext:]\\n{}\".format(title, selftext)\n",
    "        output.append({\"instruction\": create_instruction, \"input\": \"\", \"output\": posttext, \"score\": p.score})\n",
    "        for reply in comments:\n",
    "            stack.append((reply, posttext))\n",
    "    try:\n",
    "        with tqdm(total = limit2 - len(output)) as pbar:\n",
    "            counter = 0\n",
    "            while len(output) < limit2:\n",
    "                N = len(stack)\n",
    "                if N == 0:\n",
    "                    break\n",
    "                stack2 = []\n",
    "                for _ in range(N):\n",
    "                    reply, posttext = stack.pop()\n",
    "                    if isinstance(reply, praw.models.MoreComments):\n",
    "                        # Replace any MoreComments object with its actual comments\n",
    "                        try:\n",
    "                            comments = reply.comments()\n",
    "                            if isinstance(comments, praw.models.comment_forest.CommentForest):\n",
    "                                comments.replace_more(limit=None)\n",
    "                            for r in comments:\n",
    "                                stack2.append((r, posttext))\n",
    "                        except AttributeError:\n",
    "                            pass\n",
    "                            #print(f\"MoreComments object not found. Skipping...\")\n",
    "                        except Exception as e:\n",
    "                            pass\n",
    "                            #print(f\"Exception encountered when expanding: {e}\")\n",
    "                    else:\n",
    "                        result = {\"instruction\": \"Reply to this Reddit post\", \"input\": posttext, \"output\": noquotes(reply.body), \"score\": reply.score}\n",
    "                        output.append(result)\n",
    "                        if len(output) >= limit2:\n",
    "                            break\n",
    "                        counter += 1\n",
    "                        pbar.update(counter)\n",
    "                        for rep2 in reply.replies:\n",
    "                            stack2.append((rep2, reply.body))\n",
    "                stack = stack2\n",
    "    except KeyboardInterrupt:\n",
    "        pass        \n",
    "    with open(\"{}.json\".format(sub), 'w') as f:\n",
    "        json.dump(output, f)\n",
    "    return output"
   ]
  },
  {
   "cell_type": "code",
   "execution_count": 6,
   "id": "cdc453f8",
   "metadata": {
    "scrolled": true
   },
   "outputs": [
    {
     "name": "stderr",
     "output_type": "stream",
     "text": [
      "100%|████████████████████████████████████████████████████████████████████████████| 2795/2795 [2:07:50<00:00,  2.74s/it]\n",
      "11349895780it [15:55:30, 314426.83it/s]                                                                                IOPub message rate exceeded.\n",
      "The notebook server will temporarily stop sending output\n",
      "to the client in order to avoid crashing it.\n",
      "To change this limit, set the config variable\n",
      "`--NotebookApp.iopub_msg_rate_limit`.\n",
      "\n",
      "Current values:\n",
      "NotebookApp.iopub_msg_rate_limit=1000.0 (msgs/sec)\n",
      "NotebookApp.rate_limit_window=3.0 (secs)\n",
      "\n",
      "19430808411it [19:26:44, 1096731.15it/s] IOPub message rate exceeded.\n",
      "The notebook server will temporarily stop sending output\n",
      "to the client in order to avoid crashing it.\n",
      "To change this limit, set the config variable\n",
      "`--NotebookApp.iopub_msg_rate_limit`.\n",
      "\n",
      "Current values:\n",
      "NotebookApp.iopub_msg_rate_limit=1000.0 (msgs/sec)\n",
      "NotebookApp.rate_limit_window=3.0 (secs)\n",
      "\n"
     ]
    }
   ],
   "source": [
    "run(\"unpopularopinion\")"
   ]
  },
  {
   "cell_type": "code",
   "execution_count": 7,
   "id": "519e9407",
   "metadata": {},
   "outputs": [],
   "source": [
    "g = _"
   ]
  },
  {
   "cell_type": "code",
   "execution_count": 8,
   "id": "faa49c19",
   "metadata": {},
   "outputs": [
    {
     "data": {
      "text/plain": [
       "200000"
      ]
     },
     "execution_count": 8,
     "metadata": {},
     "output_type": "execute_result"
    }
   ],
   "source": [
    "len(g)"
   ]
  },
  {
   "cell_type": "code",
   "execution_count": null,
   "id": "cac3d25c",
   "metadata": {},
   "outputs": [],
   "source": []
  }
 ],
 "metadata": {
  "kernelspec": {
   "display_name": "base",
   "language": "python",
   "name": "base"
  },
  "language_info": {
   "codemirror_mode": {
    "name": "ipython",
    "version": 3
   },
   "file_extension": ".py",
   "mimetype": "text/x-python",
   "name": "python",
   "nbconvert_exporter": "python",
   "pygments_lexer": "ipython3",
   "version": "3.9.1"
  }
 },
 "nbformat": 4,
 "nbformat_minor": 5
}
