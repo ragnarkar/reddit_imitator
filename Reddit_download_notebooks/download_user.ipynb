{
 "cells": [
  {
   "cell_type": "code",
   "execution_count": 1,
   "id": "90c6faee",
   "metadata": {},
   "outputs": [],
   "source": [
    "import praw\n",
    "import re\n",
    "import random\n",
    "import bs4, markdown\n",
    "from tqdm import tqdm\n",
    "import copy\n",
    "import pandas as pd\n",
    "import time\n",
    "import json\n",
    "import warnings\n",
    "from praw.exceptions import DuplicateReplaceException\n",
    "import prawcore"
   ]
  },
  {
   "cell_type": "code",
   "execution_count": 2,
   "id": "204f1111",
   "metadata": {},
   "outputs": [],
   "source": [
    "credential_file = \"credentials.key\"\n",
    "\n",
    "try:\n",
    "    with open(credential_file, 'r') as f:\n",
    "        creds = f.read().split('\\n')\n",
    "    personal = creds[0]\n",
    "    secret = creds[1]\n",
    "    username = creds[2]\n",
    "    password = creds[3]\n",
    "    user_agent = creds[4]\n",
    "except IOError as e:\n",
    "    print(\"You didn't create a credential file! Please see sample_credentials.key\")\n",
    "    print(\"Then go to http://www.storybench.org/how-to-scrape-reddit-with-python/\")\n",
    "    print(\"And register a new app named fastai_reddit in your reddit account.\")\n",
    "    print(\"And insert the values into sample_credentials.key and save it as {}.\".format(credential_file))\n",
    "    import getpass\n",
    "    personal = getpass.getpass(\"Personal key?\")\n",
    "    secret = getpass.getpass(\"Secret key?\")\n",
    "    username - getpass.getpass(\"Username?\")\n",
    "    password = getpass.getpass(\"Password?\")\n",
    "    user_agent = getpass.getpass(\"User Agent?\")\n",
    "\n",
    "def noquotes(text):\n",
    "    \"\"\"\n",
    "This function first stated out as a way to remove markdown quotes from raw reddit markdown text but now it's more of a\n",
    "general purpose text parser, but the name hasn't changed.\n",
    "    \"\"\"\n",
    "    #https://stackoverflow.com/questions/761824/python-how-to-convert-markdown-formatted-text-to-text\n",
    "    t1 = re.sub(\">.+?(\\n|$)\",\"\",text).replace(\"\\\\n\",\"\").replace(\"\\\\\",\"\")\n",
    "    html = markdown.markdown(t1)\n",
    "    t2 = ''.join(bs4.BeautifulSoup(html, 'lxml').findAll(text=True))\n",
    "    \n",
    "    return t2    \n",
    "\n",
    "reddit = praw.Reddit(client_id=personal, client_secret=secret, user_agent=user_agent, username=username, \\\n",
    "                     password=password)"
   ]
  },
  {
   "cell_type": "code",
   "execution_count": 14,
   "id": "9b010754",
   "metadata": {},
   "outputs": [],
   "source": [
    "def get_parent(comment_id):\n",
    "    comment = reddit.comment(comment_id)\n",
    "    parent = comment.parent()\n",
    "\n",
    "    if isinstance(parent, praw.models.Submission):\n",
    "        # Parent is a post\n",
    "        parent_title = parent.title\n",
    "        parent_text = parent.selftext if parent.is_self else \"\"\n",
    "        return {\"title\": parent_title, \"text\": parent_text}\n",
    "    elif isinstance(parent, praw.models.Comment):\n",
    "        # Parent is a comment\n",
    "        return {\"title\": None, \"text\": noquotes(parent.body)}\n",
    "    else:\n",
    "        # No parent found\n",
    "        return None"
   ]
  },
  {
   "cell_type": "code",
   "execution_count": 15,
   "id": "ff758c1e",
   "metadata": {},
   "outputs": [],
   "source": [
    "def getall(x, limit = None):\n",
    "    top = list(x.top(limit = limit))\n",
    "    new = list(x.new(limit = limit))\n",
    "    controversial = list(x.controversial(limit = limit))\n",
    "    return list(set(top + new  + controversial))"
   ]
  },
  {
   "cell_type": "code",
   "execution_count": 22,
   "id": "628bab57",
   "metadata": {},
   "outputs": [],
   "source": [
    "def run(username, reply_instruction=\"Reply to this Reddit post\", create_instruction=\"Create a Reddit post\"):\n",
    "    output = []\n",
    "    comms = getall(reddit.redditor(username).comments)\n",
    "    print(len(comms))\n",
    "    posts = getall(reddit.redditor(username).submissions)\n",
    "    print(len(posts))\n",
    "    for c in tqdm(comms):\n",
    "        parent = get_parent(c.id)\n",
    "        title = parent.get('title')\n",
    "        text = parent.get('text')\n",
    "        if title:\n",
    "            posttext = \"[Title:] {}\\n[Selftext:]\\n{}\".format(title, text)\n",
    "        else:\n",
    "            posttext = text\n",
    "        result = {\"instruction\": reply_instruction, \"input\": posttext, \"output\": noquotes(c.body)}\n",
    "        output.append(result)\n",
    "    for p in tqdm(posts):\n",
    "        title = p.title\n",
    "        try:\n",
    "            selftext = noquotes(p.selftext)\n",
    "        except AttributeError:\n",
    "            selftext = \"\"\n",
    "        posttext = \"[Title:] {}\\n[Selftext:]\\n{}\".format(title, selftext)\n",
    "        output.append({\"instruction\": create_instruction, \"input\": \"\", \"output\": posttext})\n",
    "    with open(\"{}_user.json\".format(username), 'w') as f:\n",
    "        json.dump(output, f)\n",
    "    return output"
   ]
  },
  {
   "cell_type": "code",
   "execution_count": 29,
   "id": "fea69283",
   "metadata": {},
   "outputs": [
    {
     "name": "stdout",
     "output_type": "stream",
     "text": [
      "2514\n",
      "669\n"
     ]
    },
    {
     "name": "stderr",
     "output_type": "stream",
     "text": [
      "100%|████████████████████████████████████████████████████████████████████████████| 2514/2514 [2:30:46<00:00,  3.60s/it]\n",
      "100%|██████████████████████████████████████████████████████████████████████████████| 669/669 [00:00<00:00, 1140.36it/s]\n"
     ]
    }
   ],
   "source": [
    "g = run(\"ragnarkar\")"
   ]
  },
  {
   "cell_type": "code",
   "execution_count": null,
   "id": "09e3d83b",
   "metadata": {},
   "outputs": [],
   "source": []
  }
 ],
 "metadata": {
  "kernelspec": {
   "display_name": "Python 3 (ipykernel)",
   "language": "python",
   "name": "python3"
  },
  "language_info": {
   "codemirror_mode": {
    "name": "ipython",
    "version": 3
   },
   "file_extension": ".py",
   "mimetype": "text/x-python",
   "name": "python",
   "nbconvert_exporter": "python",
   "pygments_lexer": "ipython3",
   "version": "3.9.1"
  }
 },
 "nbformat": 4,
 "nbformat_minor": 5
}
